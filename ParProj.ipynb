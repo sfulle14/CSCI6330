{
 "cells": [
  {
   "cell_type": "markdown",
   "id": "1cdd68d0-3c41-4bac-8b53-f4bfe75cc25c",
   "metadata": {},
   "source": [
    "<H3>Import Necessary Libaries</H3>"
   ]
  },
  {
   "cell_type": "code",
   "execution_count": 14,
   "id": "f7538f46-c15f-4613-940a-884d14e03b77",
   "metadata": {},
   "outputs": [
    {
     "name": "stdout",
     "output_type": "stream",
     "text": [
      "Requirement already satisfied: torch in c:\\python311\\lib\\site-packages (2.3.1)\n",
      "Requirement already satisfied: filelock in c:\\python311\\lib\\site-packages (from torch) (3.14.0)\n",
      "Requirement already satisfied: typing-extensions>=4.8.0 in c:\\python311\\lib\\site-packages (from torch) (4.8.0)\n",
      "Requirement already satisfied: sympy in c:\\python311\\lib\\site-packages (from torch) (1.13.0)\n",
      "Requirement already satisfied: networkx in c:\\python311\\lib\\site-packages (from torch) (3.2.1)\n",
      "Requirement already satisfied: jinja2 in c:\\python311\\lib\\site-packages (from torch) (3.1.2)\n",
      "Requirement already satisfied: fsspec in c:\\python311\\lib\\site-packages (from torch) (2024.6.1)\n",
      "Requirement already satisfied: mkl<=2021.4.0,>=2021.1.1 in c:\\python311\\lib\\site-packages (from torch) (2021.4.0)\n",
      "Requirement already satisfied: intel-openmp==2021.* in c:\\python311\\lib\\site-packages (from mkl<=2021.4.0,>=2021.1.1->torch) (2021.4.0)\n",
      "Requirement already satisfied: tbb==2021.* in c:\\python311\\lib\\site-packages (from mkl<=2021.4.0,>=2021.1.1->torch) (2021.13.0)\n",
      "Requirement already satisfied: MarkupSafe>=2.0 in c:\\python311\\lib\\site-packages (from jinja2->torch) (2.1.3)\n",
      "Requirement already satisfied: mpmath<1.4,>=1.1.0 in c:\\python311\\lib\\site-packages (from sympy->torch) (1.3.0)\n"
     ]
    },
    {
     "name": "stderr",
     "output_type": "stream",
     "text": [
      "WARNING: There was an error checking the latest version of pip.\n"
     ]
    }
   ],
   "source": [
    "!pip install torch"
   ]
  },
  {
   "cell_type": "code",
   "execution_count": 18,
   "id": "e2dae0bc-176e-4821-b0b3-78565109e67a",
   "metadata": {},
   "outputs": [
    {
     "ename": "OSError",
     "evalue": "[WinError 126] The specified module could not be found. Error loading \"C:\\Python311\\Lib\\site-packages\\torch\\lib\\shm.dll\" or one of its dependencies.",
     "output_type": "error",
     "traceback": [
      "\u001b[1;31m---------------------------------------------------------------------------\u001b[0m",
      "\u001b[1;31mOSError\u001b[0m                                   Traceback (most recent call last)",
      "Cell \u001b[1;32mIn[18], line 8\u001b[0m\n\u001b[0;32m      5\u001b[0m \u001b[38;5;28;01mfrom\u001b[39;00m \u001b[38;5;21;01mydata_profiling\u001b[39;00m \u001b[38;5;28;01mimport\u001b[39;00m ProfileReport\n\u001b[0;32m      6\u001b[0m \u001b[38;5;28;01mfrom\u001b[39;00m \u001b[38;5;21;01msklearn\u001b[39;00m\u001b[38;5;21;01m.\u001b[39;00m\u001b[38;5;21;01mmodel_selection\u001b[39;00m \u001b[38;5;28;01mimport\u001b[39;00m train_test_split\n\u001b[1;32m----> 8\u001b[0m \u001b[38;5;28;01mimport\u001b[39;00m \u001b[38;5;21;01mtorch\u001b[39;00m\n\u001b[0;32m      9\u001b[0m \u001b[38;5;28;01mimport\u001b[39;00m \u001b[38;5;21;01mpytorch_lightning\u001b[39;00m \u001b[38;5;28;01mas\u001b[39;00m \u001b[38;5;21;01mpl\u001b[39;00m\n\u001b[0;32m     10\u001b[0m \u001b[38;5;28;01mfrom\u001b[39;00m \u001b[38;5;21;01mtorch\u001b[39;00m \u001b[38;5;28;01mimport\u001b[39;00m nn\n",
      "File \u001b[1;32mC:\\Python311\\Lib\\site-packages\\torch\\__init__.py:143\u001b[0m\n\u001b[0;32m    141\u001b[0m                 err \u001b[38;5;241m=\u001b[39m ctypes\u001b[38;5;241m.\u001b[39mWinError(ctypes\u001b[38;5;241m.\u001b[39mget_last_error())\n\u001b[0;32m    142\u001b[0m                 err\u001b[38;5;241m.\u001b[39mstrerror \u001b[38;5;241m+\u001b[39m\u001b[38;5;241m=\u001b[39m \u001b[38;5;124mf\u001b[39m\u001b[38;5;124m'\u001b[39m\u001b[38;5;124m Error loading \u001b[39m\u001b[38;5;124m\"\u001b[39m\u001b[38;5;132;01m{\u001b[39;00mdll\u001b[38;5;132;01m}\u001b[39;00m\u001b[38;5;124m\"\u001b[39m\u001b[38;5;124m or one of its dependencies.\u001b[39m\u001b[38;5;124m'\u001b[39m\n\u001b[1;32m--> 143\u001b[0m                 \u001b[38;5;28;01mraise\u001b[39;00m err\n\u001b[0;32m    145\u001b[0m     kernel32\u001b[38;5;241m.\u001b[39mSetErrorMode(prev_error_mode)\n\u001b[0;32m    148\u001b[0m \u001b[38;5;28;01mdef\u001b[39;00m \u001b[38;5;21m_preload_cuda_deps\u001b[39m(lib_folder, lib_name):\n",
      "\u001b[1;31mOSError\u001b[0m: [WinError 126] The specified module could not be found. Error loading \"C:\\Python311\\Lib\\site-packages\\torch\\lib\\shm.dll\" or one of its dependencies."
     ]
    }
   ],
   "source": [
    "import pandas as pd\n",
    "import polars as pl\n",
    "import numpy as np\n",
    "from matplotlib import pyplot as plt\n",
    "from ydata_profiling import ProfileReport\n",
    "from sklearn.model_selection import train_test_split\n",
    "\n",
    "import torch\n",
    "import pytorch_lightning as pl\n",
    "from torch import nn\n",
    "from torch.utils.data import DataLoader, TensorDataset"
   ]
  },
  {
   "cell_type": "markdown",
   "id": "6018bf76-aaa6-4c80-8277-4d57f04c1319",
   "metadata": {},
   "source": [
    "<H3>Load In Datasets</H3>"
   ]
  },
  {
   "cell_type": "code",
   "execution_count": 2,
   "id": "a7215594-09d6-4bdd-9667-5e369e253bf0",
   "metadata": {},
   "outputs": [],
   "source": [
    "df_test = pd.read_csv(\"creditcard.csv\")\n",
    "df = pl.read_csv(\"creditcard.csv\", schema_overrides={\"Time\": pl.Utf8}).drop(\"Time\")"
   ]
  },
  {
   "cell_type": "code",
   "execution_count": 3,
   "id": "9bc10688-12f2-4ed3-99dc-fc1ad5de450f",
   "metadata": {},
   "outputs": [
    {
     "name": "stdout",
     "output_type": "stream",
     "text": [
      "<class 'pandas.core.frame.DataFrame'>\n",
      "RangeIndex: 284807 entries, 0 to 284806\n",
      "Data columns (total 31 columns):\n",
      " #   Column  Non-Null Count   Dtype  \n",
      "---  ------  --------------   -----  \n",
      " 0   Time    284807 non-null  float64\n",
      " 1   V1      284807 non-null  float64\n",
      " 2   V2      284807 non-null  float64\n",
      " 3   V3      284807 non-null  float64\n",
      " 4   V4      284807 non-null  float64\n",
      " 5   V5      284807 non-null  float64\n",
      " 6   V6      284807 non-null  float64\n",
      " 7   V7      284807 non-null  float64\n",
      " 8   V8      284807 non-null  float64\n",
      " 9   V9      284807 non-null  float64\n",
      " 10  V10     284807 non-null  float64\n",
      " 11  V11     284807 non-null  float64\n",
      " 12  V12     284807 non-null  float64\n",
      " 13  V13     284807 non-null  float64\n",
      " 14  V14     284807 non-null  float64\n",
      " 15  V15     284807 non-null  float64\n",
      " 16  V16     284807 non-null  float64\n",
      " 17  V17     284807 non-null  float64\n",
      " 18  V18     284807 non-null  float64\n",
      " 19  V19     284807 non-null  float64\n",
      " 20  V20     284807 non-null  float64\n",
      " 21  V21     284807 non-null  float64\n",
      " 22  V22     284807 non-null  float64\n",
      " 23  V23     284807 non-null  float64\n",
      " 24  V24     284807 non-null  float64\n",
      " 25  V25     284807 non-null  float64\n",
      " 26  V26     284807 non-null  float64\n",
      " 27  V27     284807 non-null  float64\n",
      " 28  V28     284807 non-null  float64\n",
      " 29  Amount  284807 non-null  float64\n",
      " 30  Class   284807 non-null  int64  \n",
      "dtypes: float64(30), int64(1)\n",
      "memory usage: 67.4 MB\n"
     ]
    }
   ],
   "source": [
    "df_test.info()"
   ]
  },
  {
   "cell_type": "markdown",
   "id": "c536000f-97ab-419f-b261-bce8295e0da7",
   "metadata": {},
   "source": [
    "<H3>Data Exploration</H3>"
   ]
  },
  {
   "cell_type": "code",
   "execution_count": null,
   "id": "396465e7-8d99-4ab9-8daf-b088c1cb608b",
   "metadata": {},
   "outputs": [],
   "source": [
    "profile = ProfileReport(df_test)\n",
    "profile"
   ]
  },
  {
   "cell_type": "markdown",
   "id": "4ac5499d-1686-4013-a7c5-f8f23f3313a8",
   "metadata": {},
   "source": [
    "<H3>Data Preprocessing</H3>"
   ]
  },
  {
   "cell_type": "code",
   "execution_count": 5,
   "id": "697e5fe2-5805-4892-8af4-e4e3d8bc3ef6",
   "metadata": {},
   "outputs": [],
   "source": [
    "X = df.select(pl.all().exclude(\"Class\")).to_numpy()\n",
    "y = df.select(\"Class\").to_numpy().flatten()"
   ]
  },
  {
   "cell_type": "markdown",
   "id": "9e995300-d670-497a-965c-fad892a955c5",
   "metadata": {},
   "source": [
    "<H4>SMOTE</H4>"
   ]
  },
  {
   "cell_type": "code",
   "execution_count": 6,
   "id": "15189624-6578-4092-898a-c676c55f9642",
   "metadata": {},
   "outputs": [],
   "source": [
    "from imblearn.over_sampling import SMOTE"
   ]
  },
  {
   "cell_type": "code",
   "execution_count": 7,
   "id": "3e42f367-8751-4141-b31a-0a7a538592e0",
   "metadata": {},
   "outputs": [],
   "source": [
    "smote = SMOTE()\n",
    "X_resample, y_resample = smote.fit_resample(X, y)"
   ]
  },
  {
   "cell_type": "code",
   "execution_count": 9,
   "id": "a72cad23-056d-4ead-944c-c955a681b6e3",
   "metadata": {},
   "outputs": [
    {
     "name": "stdout",
     "output_type": "stream",
     "text": [
      "Number of total transactions before SMOTE upsampling:  284807 ...after SMOTE upsampling:  568630\n",
      "Number of fraudulent transactions before SMOTE upsampling:  492 ...after SMOTE upsampling:  284315\n"
     ]
    }
   ],
   "source": [
    "print('Number of total transactions before SMOTE upsampling: ', len(y), '...after SMOTE upsampling: ', len(y_resample))\n",
    "print('Number of fraudulent transactions before SMOTE upsampling: ', np.count_nonzero(y==1), \n",
    "      '...after SMOTE upsampling: ', np.sum(y_resample[y_resample==1]))"
   ]
  },
  {
   "cell_type": "code",
   "execution_count": 12,
   "id": "7de24fed-f8c2-4ea8-8f53-f2268249a8e7",
   "metadata": {},
   "outputs": [
    {
     "data": {
      "text/plain": [
       "(568630, 29)"
      ]
     },
     "execution_count": 12,
     "metadata": {},
     "output_type": "execute_result"
    }
   ],
   "source": [
    "X_resample.shape"
   ]
  },
  {
   "cell_type": "markdown",
   "id": "811ede77-9f4c-4951-83dd-272e7023bc89",
   "metadata": {},
   "source": [
    "<H4>Autoencoder</H4>"
   ]
  },
  {
   "cell_type": "code",
   "execution_count": null,
   "id": "8e96e17d-c517-4b7a-b4df-6379d13e9aa9",
   "metadata": {},
   "outputs": [],
   "source": [
    "class AutoEncoder(pl.LightningModule):\n",
    "    def __init__(self):\n",
    "        super(AutoEncoder, self).__init__()\n",
    "        self.encoder = nn.Sequential(\n",
    "            nn.Linear(28 * 28, 128),\n",
    "            nn.ReLU(),\n",
    "            nn.Linear(128, 64),\n",
    "            nn.ReLU(),\n",
    "            nn.Linear(64, 12),\n",
    "            nn.ReLU(),\n",
    "            nn.Linear(12, 3)  # Bottleneck layer\n",
    "        )\n",
    "        self.decoder = nn.Sequential(\n",
    "            nn.Linear(3, 12),\n",
    "            nn.ReLU(),\n",
    "            nn.Linear(12, 64),\n",
    "            nn.ReLU(),\n",
    "            nn.Linear(64, 128),\n",
    "            nn.ReLU(),\n",
    "            nn.Linear(128, 28 * 28),\n",
    "            nn.Sigmoid()  # Output layer\n",
    "        )\n",
    "\n",
    "        def forward(self, x):\n",
    "        x = self.encoder(x)\n",
    "        x = self.decoder(x)\n",
    "        return x\n",
    "    \n",
    "    def predict_step(self, predict_batch, batch_idx):\n",
    "        x, _ = predict_batch\n",
    "        y = self(x)\n",
    "        y = torch.softmax(y,-1)\n",
    "        return y\n",
    "    \n",
    "    def training_step(self, batch, batch_idx):\n",
    "        x, _ = batch\n",
    "        x_hat = self(x)\n",
    "        loss = nn.MSELoss()(x_hat, x)\n",
    "        self.log('train_loss', loss, on_step=False, on_epoch=True)\n",
    "        return loss\n",
    "    \n",
    "    def validation_step(self, val_batch, batch_idx):\n",
    "        x, _ = val_batch\n",
    "        x_hat = self(x)\n",
    "        loss = nn.MSELoss()(x_hat, x)\n",
    "        self.log('val_loss', loss, on_step=False, on_epoch=True)\n",
    "        return loss\n",
    "    \n",
    "    def test_step(self, test_batch, batch_idx):\n",
    "        x, y = test_batch\n",
    "        y_pred = self(x)\n",
    "        loss = nn.MSELoss()(x_hat, x)\n",
    "        self.log('test_loss', loss, on_step=False, on_epoch=True)\n",
    "        return loss\n",
    "\n",
    "    def configure_optimizers(self):\n",
    "        return torch.optim.Adam(self.parameters(), lr=0.001)"
   ]
  },
  {
   "cell_type": "code",
   "execution_count": null,
   "id": "5be2962a-1f7c-4f78-9c81-fb892162ed0f",
   "metadata": {},
   "outputs": [],
   "source": [
    "model = Autoencoder()"
   ]
  },
  {
   "cell_type": "markdown",
   "id": "07c7e2e5-0474-4e29-b031-1c8ebf2a74da",
   "metadata": {},
   "source": [
    "<H3>Modeling</H3>"
   ]
  },
  {
   "cell_type": "code",
   "execution_count": 11,
   "id": "3b54d02e-2255-4469-8a2d-4309e07c2a76",
   "metadata": {},
   "outputs": [],
   "source": [
    "X_train, X_test, y_train, y_test = train_test_split(X_resample, y_resample, test_size=0.2)"
   ]
  },
  {
   "cell_type": "markdown",
   "id": "0e675299-e772-4a7b-8a25-cd624239df45",
   "metadata": {},
   "source": [
    "<H4>Random Forest</H4>"
   ]
  },
  {
   "cell_type": "code",
   "execution_count": null,
   "id": "01c22858-6b17-4d3c-afec-d8fe692589c8",
   "metadata": {},
   "outputs": [],
   "source": [
    "decision_tree = DecisionTreeClassifier()"
   ]
  },
  {
   "cell_type": "markdown",
   "id": "6cdd73ad-5671-402e-b07f-3e2600ab691a",
   "metadata": {},
   "source": [
    "<H4>Neural Network</H4>"
   ]
  },
  {
   "cell_type": "code",
   "execution_count": null,
   "id": "c16dbf34-0052-4729-b3ad-5d6b020bcfb7",
   "metadata": {},
   "outputs": [],
   "source": [
    "class NeuralNet(pl.LightningModule):\n",
    "    def __init__(self):\n",
    "        super(NeuralNet, self).__init__()\n",
    "        self.model = nn.Sequential(\n",
    "            nn.Linear(29, 16),\n",
    "            nn.ReLU(),\n",
    "            nn.Linear(16, 24),\n",
    "            nn.ReLU(),\n",
    "            nn.Dropout(0.5),\n",
    "            nn.Linear(24, 24),\n",
    "            nn.ReLU(),\n",
    "            nn.Linear(24, 1),\n",
    "            nn.Sigmoid(),\n",
    "        )\n",
    "        self.loss_fn = nn.BCELoss()\n",
    "\n",
    "    def forward(self, x):\n",
    "        return self.model(x)\n",
    "\n",
    "    def configure_optimizers(self):\n",
    "        return torch.optim.Adam(self.parameters(), lr=0.001)\n",
    "\n",
    "    def training_step(self, batch):\n",
    "        x, y = batch\n",
    "        y_hat = self.forward(x).squeeze()\n",
    "        loss = self.loss_fn(y_hat, y)\n",
    "        self.log(\"train_loss\", loss)\n",
    "        return loss\n",
    "\n",
    "    def test_step(self, batch):\n",
    "        X, y = batch\n",
    "        y_hat = self(X)\n",
    "        y_pred = (y_hat > 0.5).float()\n",
    "        accuracy = (y_pred.squeeze() == y).float().mean()\n",
    "        self.log(\"test_accuracy\", accuracy)\n",
    "        return accuracy\n",
    "\n",
    "\n",
    "if __name__ == \"__main__\":\n",
    "    torch.set_float32_matmul_precision('medium')\n",
    "    torch.device(\"cuda\" if torch.cuda.is_available() else \"cpu\")\n",
    "\n",
    "    df = polars.read_csv(\"creditcard.csv\", schema_overrides={\n",
    "                         \"Time\": polars.Utf8}).drop(\"Time\")\n",
    "\n",
    "    X = df.select(polars.all().exclude(\"Class\")).to_numpy()\n",
    "    y = df.select(\"Class\").to_numpy().flatten()\n",
    "\n",
    "    X_train, X_test, y_train, y_test = train_test_split(\n",
    "        X, y, test_size=0.2\n",
    "    )\n",
    "\n",
    "    train_dataset = TensorDataset(\n",
    "        torch.FloatTensor(X_train), torch.FloatTensor(y_train)\n",
    "    )\n",
    "    test_dataset = TensorDataset(\n",
    "        torch.FloatTensor(X_test), torch.FloatTensor(y_test))\n",
    "\n",
    "    train_loader = DataLoader(\n",
    "        train_dataset, batch_size=64, shuffle=True, num_workers=16)\n",
    "\n",
    "    test_loader = DataLoader(test_dataset, batch_size=64, num_workers=16)\n",
    "\n",
    "    model = NeuralNet()\n",
    "\n",
    "    trainer = pl.Trainer(max_epochs=5)\n",
    "\n",
    "    trainer.fit(model, train_loader)\n",
    "\n",
    "    trainer.test(model, test_loader)"
   ]
  },
  {
   "cell_type": "code",
   "execution_count": 2,
   "id": "ab7cd1d1-eec2-4c57-8687-94c6be23e326",
   "metadata": {},
   "outputs": [
    {
     "ename": "NameError",
     "evalue": "name 'NeuralNetwork' is not defined",
     "output_type": "error",
     "traceback": [
      "\u001b[1;31m---------------------------------------------------------------------------\u001b[0m",
      "\u001b[1;31mNameError\u001b[0m                                 Traceback (most recent call last)",
      "Cell \u001b[1;32mIn[2], line 1\u001b[0m\n\u001b[1;32m----> 1\u001b[0m model \u001b[38;5;241m=\u001b[39m \u001b[43mNeuralNetwork\u001b[49m(\u001b[38;5;241m50\u001b[39m)\n",
      "\u001b[1;31mNameError\u001b[0m: name 'NeuralNetwork' is not defined"
     ]
    }
   ],
   "source": [
    "if __name__ == \"__main__\":\n",
    "    torch.set_float32_matmul_precision('medium')\n",
    "    torch.device(\"cuda\" if torch.cuda.is_available() else \"cpu\")\n",
    "\n",
    "    train_dataset = TensorDataset(\n",
    "        torch.FloatTensor(X_train), torch.FloatTensor(y_train)\n",
    "    )\n",
    "    test_dataset = TensorDataset(\n",
    "        torch.FloatTensor(X_test), torch.FloatTensor(y_test))\n",
    "\n",
    "    train_loader = DataLoader(\n",
    "        train_dataset, batch_size=64, shuffle=True, num_workers=16)\n",
    "\n",
    "    test_loader = DataLoader(test_dataset, batch_size=64, num_workers=16)\n",
    "\n",
    "    model = NeuralNet()\n",
    "\n",
    "    trainer = pl.Trainer(max_epochs=5)\n",
    "\n",
    "    trainer.fit(model, train_loader)\n",
    "\n",
    "    trainer.test(model, test_loader)"
   ]
  },
  {
   "cell_type": "markdown",
   "id": "7df2b63b-dd54-4ca6-b77b-8aea7e136a6e",
   "metadata": {},
   "source": [
    "<h1>------------------------------------------------------------------------------------------</h1>"
   ]
  },
  {
   "cell_type": "code",
   "execution_count": 7,
   "id": "89a192de-b8c6-4096-a05a-435afb0f25c6",
   "metadata": {},
   "outputs": [],
   "source": [
    "import torch\n",
    "import lightning.pytorch as pl\n",
    "from torchinfo import summary\n",
    "from torchview import draw_graph\n",
    "import torchmetrics\n",
    "import torchvision\n",
    "import pyspark\n",
    "from sklearn.tree import DecisionTreeClassifier"
   ]
  },
  {
   "cell_type": "code",
   "execution_count": 11,
   "id": "03e8ba87-8b4d-4892-b668-80f043e76599",
   "metadata": {},
   "outputs": [],
   "source": [
    "df = pl.read_csv(\"creditcard.csv\", schema_overrides={\"Time\": pl.Utf8}).drop(\"Time\")"
   ]
  },
  {
   "cell_type": "code",
   "execution_count": 12,
   "id": "caadf690-f59f-46f0-ae1f-3c0a92e09276",
   "metadata": {},
   "outputs": [
    {
     "data": {
      "text/html": [
       "<div><style>\n",
       ".dataframe > thead > tr,\n",
       ".dataframe > tbody > tr {\n",
       "  text-align: right;\n",
       "  white-space: pre-wrap;\n",
       "}\n",
       "</style>\n",
       "<small>shape: (5, 30)</small><table border=\"1\" class=\"dataframe\"><thead><tr><th>V1</th><th>V2</th><th>V3</th><th>V4</th><th>V5</th><th>V6</th><th>V7</th><th>V8</th><th>V9</th><th>V10</th><th>V11</th><th>V12</th><th>V13</th><th>V14</th><th>V15</th><th>V16</th><th>V17</th><th>V18</th><th>V19</th><th>V20</th><th>V21</th><th>V22</th><th>V23</th><th>V24</th><th>V25</th><th>V26</th><th>V27</th><th>V28</th><th>Amount</th><th>Class</th></tr><tr><td>f64</td><td>f64</td><td>f64</td><td>f64</td><td>f64</td><td>f64</td><td>f64</td><td>f64</td><td>f64</td><td>f64</td><td>f64</td><td>f64</td><td>f64</td><td>f64</td><td>f64</td><td>f64</td><td>f64</td><td>f64</td><td>f64</td><td>f64</td><td>f64</td><td>f64</td><td>f64</td><td>f64</td><td>f64</td><td>f64</td><td>f64</td><td>f64</td><td>f64</td><td>i64</td></tr></thead><tbody><tr><td>-1.359807</td><td>-0.072781</td><td>2.536347</td><td>1.378155</td><td>-0.338321</td><td>0.462388</td><td>0.239599</td><td>0.098698</td><td>0.363787</td><td>0.090794</td><td>-0.5516</td><td>-0.617801</td><td>-0.99139</td><td>-0.311169</td><td>1.468177</td><td>-0.470401</td><td>0.207971</td><td>0.025791</td><td>0.403993</td><td>0.251412</td><td>-0.018307</td><td>0.277838</td><td>-0.110474</td><td>0.066928</td><td>0.128539</td><td>-0.189115</td><td>0.133558</td><td>-0.021053</td><td>149.62</td><td>0</td></tr><tr><td>1.191857</td><td>0.266151</td><td>0.16648</td><td>0.448154</td><td>0.060018</td><td>-0.082361</td><td>-0.078803</td><td>0.085102</td><td>-0.255425</td><td>-0.166974</td><td>1.612727</td><td>1.065235</td><td>0.489095</td><td>-0.143772</td><td>0.635558</td><td>0.463917</td><td>-0.114805</td><td>-0.183361</td><td>-0.145783</td><td>-0.069083</td><td>-0.225775</td><td>-0.638672</td><td>0.101288</td><td>-0.339846</td><td>0.16717</td><td>0.125895</td><td>-0.008983</td><td>0.014724</td><td>2.69</td><td>0</td></tr><tr><td>-1.358354</td><td>-1.340163</td><td>1.773209</td><td>0.37978</td><td>-0.503198</td><td>1.800499</td><td>0.791461</td><td>0.247676</td><td>-1.514654</td><td>0.207643</td><td>0.624501</td><td>0.066084</td><td>0.717293</td><td>-0.165946</td><td>2.345865</td><td>-2.890083</td><td>1.109969</td><td>-0.121359</td><td>-2.261857</td><td>0.52498</td><td>0.247998</td><td>0.771679</td><td>0.909412</td><td>-0.689281</td><td>-0.327642</td><td>-0.139097</td><td>-0.055353</td><td>-0.059752</td><td>378.66</td><td>0</td></tr><tr><td>-0.966272</td><td>-0.185226</td><td>1.792993</td><td>-0.863291</td><td>-0.010309</td><td>1.247203</td><td>0.237609</td><td>0.377436</td><td>-1.387024</td><td>-0.054952</td><td>-0.226487</td><td>0.178228</td><td>0.507757</td><td>-0.287924</td><td>-0.631418</td><td>-1.059647</td><td>-0.684093</td><td>1.965775</td><td>-1.232622</td><td>-0.208038</td><td>-0.1083</td><td>0.005274</td><td>-0.190321</td><td>-1.175575</td><td>0.647376</td><td>-0.221929</td><td>0.062723</td><td>0.061458</td><td>123.5</td><td>0</td></tr><tr><td>-1.158233</td><td>0.877737</td><td>1.548718</td><td>0.403034</td><td>-0.407193</td><td>0.095921</td><td>0.592941</td><td>-0.270533</td><td>0.817739</td><td>0.753074</td><td>-0.822843</td><td>0.538196</td><td>1.345852</td><td>-1.11967</td><td>0.175121</td><td>-0.451449</td><td>-0.237033</td><td>-0.038195</td><td>0.803487</td><td>0.408542</td><td>-0.009431</td><td>0.798278</td><td>-0.137458</td><td>0.141267</td><td>-0.20601</td><td>0.502292</td><td>0.219422</td><td>0.215153</td><td>69.99</td><td>0</td></tr></tbody></table></div>"
      ],
      "text/plain": [
       "shape: (5, 30)\n",
       "┌───────────┬───────────┬──────────┬───────────┬───┬───────────┬───────────┬────────┬───────┐\n",
       "│ V1        ┆ V2        ┆ V3       ┆ V4        ┆ … ┆ V27       ┆ V28       ┆ Amount ┆ Class │\n",
       "│ ---       ┆ ---       ┆ ---      ┆ ---       ┆   ┆ ---       ┆ ---       ┆ ---    ┆ ---   │\n",
       "│ f64       ┆ f64       ┆ f64      ┆ f64       ┆   ┆ f64       ┆ f64       ┆ f64    ┆ i64   │\n",
       "╞═══════════╪═══════════╪══════════╪═══════════╪═══╪═══════════╪═══════════╪════════╪═══════╡\n",
       "│ -1.359807 ┆ -0.072781 ┆ 2.536347 ┆ 1.378155  ┆ … ┆ 0.133558  ┆ -0.021053 ┆ 149.62 ┆ 0     │\n",
       "│ 1.191857  ┆ 0.266151  ┆ 0.16648  ┆ 0.448154  ┆ … ┆ -0.008983 ┆ 0.014724  ┆ 2.69   ┆ 0     │\n",
       "│ -1.358354 ┆ -1.340163 ┆ 1.773209 ┆ 0.37978   ┆ … ┆ -0.055353 ┆ -0.059752 ┆ 378.66 ┆ 0     │\n",
       "│ -0.966272 ┆ -0.185226 ┆ 1.792993 ┆ -0.863291 ┆ … ┆ 0.062723  ┆ 0.061458  ┆ 123.5  ┆ 0     │\n",
       "│ -1.158233 ┆ 0.877737  ┆ 1.548718 ┆ 0.403034  ┆ … ┆ 0.219422  ┆ 0.215153  ┆ 69.99  ┆ 0     │\n",
       "└───────────┴───────────┴──────────┴───────────┴───┴───────────┴───────────┴────────┴───────┘"
      ]
     },
     "execution_count": 12,
     "metadata": {},
     "output_type": "execute_result"
    }
   ],
   "source": [
    "df.head()"
   ]
  },
  {
   "cell_type": "code",
   "execution_count": null,
   "id": "d15fe6e1-b0c5-4dd4-9586-c80d6bedd54a",
   "metadata": {},
   "outputs": [],
   "source": []
  }
 ],
 "metadata": {
  "kernelspec": {
   "display_name": "Python 3 (ipykernel)",
   "language": "python",
   "name": "python3"
  },
  "language_info": {
   "codemirror_mode": {
    "name": "ipython",
    "version": 3
   },
   "file_extension": ".py",
   "mimetype": "text/x-python",
   "name": "python",
   "nbconvert_exporter": "python",
   "pygments_lexer": "ipython3",
   "version": "3.11.5"
  }
 },
 "nbformat": 4,
 "nbformat_minor": 5
}
